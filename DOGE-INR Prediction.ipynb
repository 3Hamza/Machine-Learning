{
 "cells": [
  {
   "cell_type": "code",
   "execution_count": 1,
   "metadata": {},
   "outputs": [],
   "source": [
    "import numpy as np\n",
    "import pandas as pd \n",
    "import matplotlib.pyplot as plt\n",
    "from sklearn.linear_model import LinearRegression\n",
    "from sklearn.linear_model import LogisticRegression\n",
    "from sklearn.tree import DecisionTreeRegressor\n",
    "from sklearn.svm import SVC"
   ]
  },
  {
   "cell_type": "code",
   "execution_count": 2,
   "metadata": {},
   "outputs": [],
   "source": [
    "df=pd.read_csv('DOGE-INR.csv')"
   ]
  },
  {
   "cell_type": "code",
   "execution_count": 3,
   "metadata": {},
   "outputs": [
    {
     "data": {
      "text/html": [
       "<div>\n",
       "<style scoped>\n",
       "    .dataframe tbody tr th:only-of-type {\n",
       "        vertical-align: middle;\n",
       "    }\n",
       "\n",
       "    .dataframe tbody tr th {\n",
       "        vertical-align: top;\n",
       "    }\n",
       "\n",
       "    .dataframe thead th {\n",
       "        text-align: right;\n",
       "    }\n",
       "</style>\n",
       "<table border=\"1\" class=\"dataframe\">\n",
       "  <thead>\n",
       "    <tr style=\"text-align: right;\">\n",
       "      <th></th>\n",
       "      <th>Date</th>\n",
       "      <th>Open</th>\n",
       "      <th>High</th>\n",
       "      <th>Low</th>\n",
       "      <th>Close</th>\n",
       "      <th>Adj Close</th>\n",
       "      <th>Volume</th>\n",
       "    </tr>\n",
       "  </thead>\n",
       "  <tbody>\n",
       "    <tr>\n",
       "      <th>0</th>\n",
       "      <td>2020-02-10</td>\n",
       "      <td>0.231275</td>\n",
       "      <td>0.235491</td>\n",
       "      <td>0.207091</td>\n",
       "      <td>0.212925</td>\n",
       "      <td>0.212925</td>\n",
       "      <td>1.394509e+10</td>\n",
       "    </tr>\n",
       "    <tr>\n",
       "      <th>1</th>\n",
       "      <td>2020-02-11</td>\n",
       "      <td>0.214716</td>\n",
       "      <td>0.219927</td>\n",
       "      <td>0.204174</td>\n",
       "      <td>0.216759</td>\n",
       "      <td>0.216759</td>\n",
       "      <td>1.210047e+10</td>\n",
       "    </tr>\n",
       "    <tr>\n",
       "      <th>2</th>\n",
       "      <td>2020-02-12</td>\n",
       "      <td>0.216755</td>\n",
       "      <td>0.226226</td>\n",
       "      <td>0.214854</td>\n",
       "      <td>0.220534</td>\n",
       "      <td>0.220534</td>\n",
       "      <td>1.293542e+10</td>\n",
       "    </tr>\n",
       "    <tr>\n",
       "      <th>3</th>\n",
       "      <td>2020-02-13</td>\n",
       "      <td>0.218450</td>\n",
       "      <td>0.229230</td>\n",
       "      <td>0.211920</td>\n",
       "      <td>0.215681</td>\n",
       "      <td>0.215681</td>\n",
       "      <td>1.201356e+10</td>\n",
       "    </tr>\n",
       "    <tr>\n",
       "      <th>4</th>\n",
       "      <td>2020-02-14</td>\n",
       "      <td>0.213780</td>\n",
       "      <td>0.225094</td>\n",
       "      <td>0.213234</td>\n",
       "      <td>0.223868</td>\n",
       "      <td>0.223868</td>\n",
       "      <td>1.007451e+10</td>\n",
       "    </tr>\n",
       "    <tr>\n",
       "      <th>...</th>\n",
       "      <td>...</td>\n",
       "      <td>...</td>\n",
       "      <td>...</td>\n",
       "      <td>...</td>\n",
       "      <td>...</td>\n",
       "      <td>...</td>\n",
       "      <td>...</td>\n",
       "    </tr>\n",
       "    <tr>\n",
       "      <th>362</th>\n",
       "      <td>2021-02-06</td>\n",
       "      <td>3.416031</td>\n",
       "      <td>4.244130</td>\n",
       "      <td>3.268455</td>\n",
       "      <td>4.192222</td>\n",
       "      <td>4.192222</td>\n",
       "      <td>4.328066e+11</td>\n",
       "    </tr>\n",
       "    <tr>\n",
       "      <th>363</th>\n",
       "      <td>2021-02-07</td>\n",
       "      <td>4.185444</td>\n",
       "      <td>6.140783</td>\n",
       "      <td>3.947986</td>\n",
       "      <td>5.734924</td>\n",
       "      <td>5.734924</td>\n",
       "      <td>1.038132e+12</td>\n",
       "    </tr>\n",
       "    <tr>\n",
       "      <th>364</th>\n",
       "      <td>2021-02-08</td>\n",
       "      <td>5.703670</td>\n",
       "      <td>6.189522</td>\n",
       "      <td>4.716577</td>\n",
       "      <td>5.748727</td>\n",
       "      <td>5.748727</td>\n",
       "      <td>9.367422e+11</td>\n",
       "    </tr>\n",
       "    <tr>\n",
       "      <th>365</th>\n",
       "      <td>2021-02-09</td>\n",
       "      <td>5.744898</td>\n",
       "      <td>6.056642</td>\n",
       "      <td>4.781989</td>\n",
       "      <td>5.104978</td>\n",
       "      <td>5.104978</td>\n",
       "      <td>5.354060e+11</td>\n",
       "    </tr>\n",
       "    <tr>\n",
       "      <th>366</th>\n",
       "      <td>2021-02-10</td>\n",
       "      <td>5.495998</td>\n",
       "      <td>5.885368</td>\n",
       "      <td>5.019333</td>\n",
       "      <td>5.369837</td>\n",
       "      <td>5.369837</td>\n",
       "      <td>5.114934e+11</td>\n",
       "    </tr>\n",
       "  </tbody>\n",
       "</table>\n",
       "<p>367 rows × 7 columns</p>\n",
       "</div>"
      ],
      "text/plain": [
       "           Date      Open      High       Low     Close  Adj Close  \\\n",
       "0    2020-02-10  0.231275  0.235491  0.207091  0.212925   0.212925   \n",
       "1    2020-02-11  0.214716  0.219927  0.204174  0.216759   0.216759   \n",
       "2    2020-02-12  0.216755  0.226226  0.214854  0.220534   0.220534   \n",
       "3    2020-02-13  0.218450  0.229230  0.211920  0.215681   0.215681   \n",
       "4    2020-02-14  0.213780  0.225094  0.213234  0.223868   0.223868   \n",
       "..          ...       ...       ...       ...       ...        ...   \n",
       "362  2021-02-06  3.416031  4.244130  3.268455  4.192222   4.192222   \n",
       "363  2021-02-07  4.185444  6.140783  3.947986  5.734924   5.734924   \n",
       "364  2021-02-08  5.703670  6.189522  4.716577  5.748727   5.748727   \n",
       "365  2021-02-09  5.744898  6.056642  4.781989  5.104978   5.104978   \n",
       "366  2021-02-10  5.495998  5.885368  5.019333  5.369837   5.369837   \n",
       "\n",
       "           Volume  \n",
       "0    1.394509e+10  \n",
       "1    1.210047e+10  \n",
       "2    1.293542e+10  \n",
       "3    1.201356e+10  \n",
       "4    1.007451e+10  \n",
       "..            ...  \n",
       "362  4.328066e+11  \n",
       "363  1.038132e+12  \n",
       "364  9.367422e+11  \n",
       "365  5.354060e+11  \n",
       "366  5.114934e+11  \n",
       "\n",
       "[367 rows x 7 columns]"
      ]
     },
     "execution_count": 3,
     "metadata": {},
     "output_type": "execute_result"
    }
   ],
   "source": [
    "df"
   ]
  },
  {
   "cell_type": "code",
   "execution_count": 4,
   "metadata": {},
   "outputs": [
    {
     "data": {
      "text/plain": [
       "(367, 7)"
      ]
     },
     "execution_count": 4,
     "metadata": {},
     "output_type": "execute_result"
    }
   ],
   "source": [
    "df.shape"
   ]
  },
  {
   "cell_type": "code",
   "execution_count": 5,
   "metadata": {},
   "outputs": [
    {
     "data": {
      "text/plain": [
       "pandas.core.frame.DataFrame"
      ]
     },
     "execution_count": 5,
     "metadata": {},
     "output_type": "execute_result"
    }
   ],
   "source": [
    "type(df)"
   ]
  },
  {
   "cell_type": "code",
   "execution_count": 6,
   "metadata": {},
   "outputs": [],
   "source": [
    "df=df.dropna()"
   ]
  },
  {
   "cell_type": "code",
   "execution_count": 7,
   "metadata": {},
   "outputs": [
    {
     "data": {
      "text/html": [
       "<div>\n",
       "<style scoped>\n",
       "    .dataframe tbody tr th:only-of-type {\n",
       "        vertical-align: middle;\n",
       "    }\n",
       "\n",
       "    .dataframe tbody tr th {\n",
       "        vertical-align: top;\n",
       "    }\n",
       "\n",
       "    .dataframe thead th {\n",
       "        text-align: right;\n",
       "    }\n",
       "</style>\n",
       "<table border=\"1\" class=\"dataframe\">\n",
       "  <thead>\n",
       "    <tr style=\"text-align: right;\">\n",
       "      <th></th>\n",
       "      <th>Date</th>\n",
       "      <th>Open</th>\n",
       "      <th>High</th>\n",
       "      <th>Low</th>\n",
       "      <th>Close</th>\n",
       "      <th>Adj Close</th>\n",
       "      <th>Volume</th>\n",
       "    </tr>\n",
       "  </thead>\n",
       "  <tbody>\n",
       "    <tr>\n",
       "      <th>0</th>\n",
       "      <td>2020-02-10</td>\n",
       "      <td>0.231275</td>\n",
       "      <td>0.235491</td>\n",
       "      <td>0.207091</td>\n",
       "      <td>0.212925</td>\n",
       "      <td>0.212925</td>\n",
       "      <td>1.394509e+10</td>\n",
       "    </tr>\n",
       "    <tr>\n",
       "      <th>1</th>\n",
       "      <td>2020-02-11</td>\n",
       "      <td>0.214716</td>\n",
       "      <td>0.219927</td>\n",
       "      <td>0.204174</td>\n",
       "      <td>0.216759</td>\n",
       "      <td>0.216759</td>\n",
       "      <td>1.210047e+10</td>\n",
       "    </tr>\n",
       "    <tr>\n",
       "      <th>2</th>\n",
       "      <td>2020-02-12</td>\n",
       "      <td>0.216755</td>\n",
       "      <td>0.226226</td>\n",
       "      <td>0.214854</td>\n",
       "      <td>0.220534</td>\n",
       "      <td>0.220534</td>\n",
       "      <td>1.293542e+10</td>\n",
       "    </tr>\n",
       "    <tr>\n",
       "      <th>3</th>\n",
       "      <td>2020-02-13</td>\n",
       "      <td>0.218450</td>\n",
       "      <td>0.229230</td>\n",
       "      <td>0.211920</td>\n",
       "      <td>0.215681</td>\n",
       "      <td>0.215681</td>\n",
       "      <td>1.201356e+10</td>\n",
       "    </tr>\n",
       "    <tr>\n",
       "      <th>4</th>\n",
       "      <td>2020-02-14</td>\n",
       "      <td>0.213780</td>\n",
       "      <td>0.225094</td>\n",
       "      <td>0.213234</td>\n",
       "      <td>0.223868</td>\n",
       "      <td>0.223868</td>\n",
       "      <td>1.007451e+10</td>\n",
       "    </tr>\n",
       "    <tr>\n",
       "      <th>...</th>\n",
       "      <td>...</td>\n",
       "      <td>...</td>\n",
       "      <td>...</td>\n",
       "      <td>...</td>\n",
       "      <td>...</td>\n",
       "      <td>...</td>\n",
       "      <td>...</td>\n",
       "    </tr>\n",
       "    <tr>\n",
       "      <th>362</th>\n",
       "      <td>2021-02-06</td>\n",
       "      <td>3.416031</td>\n",
       "      <td>4.244130</td>\n",
       "      <td>3.268455</td>\n",
       "      <td>4.192222</td>\n",
       "      <td>4.192222</td>\n",
       "      <td>4.328066e+11</td>\n",
       "    </tr>\n",
       "    <tr>\n",
       "      <th>363</th>\n",
       "      <td>2021-02-07</td>\n",
       "      <td>4.185444</td>\n",
       "      <td>6.140783</td>\n",
       "      <td>3.947986</td>\n",
       "      <td>5.734924</td>\n",
       "      <td>5.734924</td>\n",
       "      <td>1.038132e+12</td>\n",
       "    </tr>\n",
       "    <tr>\n",
       "      <th>364</th>\n",
       "      <td>2021-02-08</td>\n",
       "      <td>5.703670</td>\n",
       "      <td>6.189522</td>\n",
       "      <td>4.716577</td>\n",
       "      <td>5.748727</td>\n",
       "      <td>5.748727</td>\n",
       "      <td>9.367422e+11</td>\n",
       "    </tr>\n",
       "    <tr>\n",
       "      <th>365</th>\n",
       "      <td>2021-02-09</td>\n",
       "      <td>5.744898</td>\n",
       "      <td>6.056642</td>\n",
       "      <td>4.781989</td>\n",
       "      <td>5.104978</td>\n",
       "      <td>5.104978</td>\n",
       "      <td>5.354060e+11</td>\n",
       "    </tr>\n",
       "    <tr>\n",
       "      <th>366</th>\n",
       "      <td>2021-02-10</td>\n",
       "      <td>5.495998</td>\n",
       "      <td>5.885368</td>\n",
       "      <td>5.019333</td>\n",
       "      <td>5.369837</td>\n",
       "      <td>5.369837</td>\n",
       "      <td>5.114934e+11</td>\n",
       "    </tr>\n",
       "  </tbody>\n",
       "</table>\n",
       "<p>363 rows × 7 columns</p>\n",
       "</div>"
      ],
      "text/plain": [
       "           Date      Open      High       Low     Close  Adj Close  \\\n",
       "0    2020-02-10  0.231275  0.235491  0.207091  0.212925   0.212925   \n",
       "1    2020-02-11  0.214716  0.219927  0.204174  0.216759   0.216759   \n",
       "2    2020-02-12  0.216755  0.226226  0.214854  0.220534   0.220534   \n",
       "3    2020-02-13  0.218450  0.229230  0.211920  0.215681   0.215681   \n",
       "4    2020-02-14  0.213780  0.225094  0.213234  0.223868   0.223868   \n",
       "..          ...       ...       ...       ...       ...        ...   \n",
       "362  2021-02-06  3.416031  4.244130  3.268455  4.192222   4.192222   \n",
       "363  2021-02-07  4.185444  6.140783  3.947986  5.734924   5.734924   \n",
       "364  2021-02-08  5.703670  6.189522  4.716577  5.748727   5.748727   \n",
       "365  2021-02-09  5.744898  6.056642  4.781989  5.104978   5.104978   \n",
       "366  2021-02-10  5.495998  5.885368  5.019333  5.369837   5.369837   \n",
       "\n",
       "           Volume  \n",
       "0    1.394509e+10  \n",
       "1    1.210047e+10  \n",
       "2    1.293542e+10  \n",
       "3    1.201356e+10  \n",
       "4    1.007451e+10  \n",
       "..            ...  \n",
       "362  4.328066e+11  \n",
       "363  1.038132e+12  \n",
       "364  9.367422e+11  \n",
       "365  5.354060e+11  \n",
       "366  5.114934e+11  \n",
       "\n",
       "[363 rows x 7 columns]"
      ]
     },
     "execution_count": 7,
     "metadata": {},
     "output_type": "execute_result"
    }
   ],
   "source": [
    "df"
   ]
  },
  {
   "cell_type": "code",
   "execution_count": 8,
   "metadata": {},
   "outputs": [
    {
     "data": {
      "image/png": "[encoded data removed]",
      "text/plain": [
       "<Figure size 1152x576 with 1 Axes>"
      ]
     },
     "metadata": {
      "needs_background": "light"
     },
     "output_type": "display_data"
    }
   ],
   "source": [
    "# Visualize the plot\n",
    "plt.figure(figsize=(16,8))\n",
    "plt.title('DogeCoin')\n",
    "plt.xlabel('Days')\n",
    "plt.ylabel('Close Price')\n",
    "plt.plot(df['Close'])\n",
    "plt.show()"
   ]
  },
  {
   "cell_type": "code",
   "execution_count": 9,
   "metadata": {},
   "outputs": [
    {
     "data": {
      "text/html": [
       "<div>\n",
       "<style scoped>\n",
       "    .dataframe tbody tr th:only-of-type {\n",
       "        vertical-align: middle;\n",
       "    }\n",
       "\n",
       "    .dataframe tbody tr th {\n",
       "        vertical-align: top;\n",
       "    }\n",
       "\n",
       "    .dataframe thead th {\n",
       "        text-align: right;\n",
       "    }\n",
       "</style>\n",
       "<table border=\"1\" class=\"dataframe\">\n",
       "  <thead>\n",
       "    <tr style=\"text-align: right;\">\n",
       "      <th></th>\n",
       "      <th>Close</th>\n",
       "    </tr>\n",
       "  </thead>\n",
       "  <tbody>\n",
       "    <tr>\n",
       "      <th>0</th>\n",
       "      <td>0.212925</td>\n",
       "    </tr>\n",
       "    <tr>\n",
       "      <th>1</th>\n",
       "      <td>0.216759</td>\n",
       "    </tr>\n",
       "    <tr>\n",
       "      <th>2</th>\n",
       "      <td>0.220534</td>\n",
       "    </tr>\n",
       "    <tr>\n",
       "      <th>3</th>\n",
       "      <td>0.215681</td>\n",
       "    </tr>\n",
       "    <tr>\n",
       "      <th>4</th>\n",
       "      <td>0.223868</td>\n",
       "    </tr>\n",
       "  </tbody>\n",
       "</table>\n",
       "</div>"
      ],
      "text/plain": [
       "      Close\n",
       "0  0.212925\n",
       "1  0.216759\n",
       "2  0.220534\n",
       "3  0.215681\n",
       "4  0.223868"
      ]
     },
     "execution_count": 9,
     "metadata": {},
     "output_type": "execute_result"
    }
   ],
   "source": [
    "df=df[['Close']]\n",
    "df.head(5)"
   ]
  },
  {
   "cell_type": "code",
   "execution_count": 10,
   "metadata": {},
   "outputs": [
    {
     "name": "stderr",
     "output_type": "stream",
     "text": [
      "<ipython-input-10-bd1ab7ff0aaf>:4: SettingWithCopyWarning: \n",
      "A value is trying to be set on a copy of a slice from a DataFrame.\n",
      "Try using .loc[row_indexer,col_indexer] = value instead\n",
      "\n",
      "See the caveats in the documentation: https://pandas.pydata.org/pandas-docs/stable/user_guide/indexing.html#returning-a-view-versus-a-copy\n",
      "  df['Prediction']=df[['Close']].shift(-future_days)\n"
     ]
    },
    {
     "data": {
      "text/html": [
       "<div>\n",
       "<style scoped>\n",
       "    .dataframe tbody tr th:only-of-type {\n",
       "        vertical-align: middle;\n",
       "    }\n",
       "\n",
       "    .dataframe tbody tr th {\n",
       "        vertical-align: top;\n",
       "    }\n",
       "\n",
       "    .dataframe thead th {\n",
       "        text-align: right;\n",
       "    }\n",
       "</style>\n",
       "<table border=\"1\" class=\"dataframe\">\n",
       "  <thead>\n",
       "    <tr style=\"text-align: right;\">\n",
       "      <th></th>\n",
       "      <th>Close</th>\n",
       "      <th>Prediction</th>\n",
       "    </tr>\n",
       "  </thead>\n",
       "  <tbody>\n",
       "    <tr>\n",
       "      <th>0</th>\n",
       "      <td>0.212925</td>\n",
       "      <td>0.161970</td>\n",
       "    </tr>\n",
       "    <tr>\n",
       "      <th>1</th>\n",
       "      <td>0.216759</td>\n",
       "      <td>0.114424</td>\n",
       "    </tr>\n",
       "    <tr>\n",
       "      <th>2</th>\n",
       "      <td>0.220534</td>\n",
       "      <td>0.128528</td>\n",
       "    </tr>\n",
       "    <tr>\n",
       "      <th>3</th>\n",
       "      <td>0.215681</td>\n",
       "      <td>0.123197</td>\n",
       "    </tr>\n",
       "    <tr>\n",
       "      <th>4</th>\n",
       "      <td>0.223868</td>\n",
       "      <td>0.124584</td>\n",
       "    </tr>\n",
       "    <tr>\n",
       "      <th>...</th>\n",
       "      <td>...</td>\n",
       "      <td>...</td>\n",
       "    </tr>\n",
       "    <tr>\n",
       "      <th>362</th>\n",
       "      <td>4.192222</td>\n",
       "      <td>NaN</td>\n",
       "    </tr>\n",
       "    <tr>\n",
       "      <th>363</th>\n",
       "      <td>5.734924</td>\n",
       "      <td>NaN</td>\n",
       "    </tr>\n",
       "    <tr>\n",
       "      <th>364</th>\n",
       "      <td>5.748727</td>\n",
       "      <td>NaN</td>\n",
       "    </tr>\n",
       "    <tr>\n",
       "      <th>365</th>\n",
       "      <td>5.104978</td>\n",
       "      <td>NaN</td>\n",
       "    </tr>\n",
       "    <tr>\n",
       "      <th>366</th>\n",
       "      <td>5.369837</td>\n",
       "      <td>NaN</td>\n",
       "    </tr>\n",
       "  </tbody>\n",
       "</table>\n",
       "<p>363 rows × 2 columns</p>\n",
       "</div>"
      ],
      "text/plain": [
       "        Close  Prediction\n",
       "0    0.212925    0.161970\n",
       "1    0.216759    0.114424\n",
       "2    0.220534    0.128528\n",
       "3    0.215681    0.123197\n",
       "4    0.223868    0.124584\n",
       "..        ...         ...\n",
       "362  4.192222         NaN\n",
       "363  5.734924         NaN\n",
       "364  5.748727         NaN\n",
       "365  5.104978         NaN\n",
       "366  5.369837         NaN\n",
       "\n",
       "[363 rows x 2 columns]"
      ]
     },
     "execution_count": 10,
     "metadata": {},
     "output_type": "execute_result"
    }
   ],
   "source": [
    "# Create a new variable 'x' that predicts x days into the future\n",
    "future_days=30\n",
    "# Create a target column shifted to 'x' days up\n",
    "df['Prediction']=df[['Close']].shift(-future_days)\n",
    "df"
   ]
  },
  {
   "cell_type": "code",
   "execution_count": 11,
   "metadata": {},
   "outputs": [
    {
     "data": {
      "text/plain": [
       "(333, 1)"
      ]
     },
     "execution_count": 11,
     "metadata": {},
     "output_type": "execute_result"
    }
   ],
   "source": [
    "# Create a feature dataset (X) and convert it to numpy array and remove the last 'x' days from the dataset\n",
    "X=np.array(df.drop(['Prediction'],axis=1))[:-future_days]\n",
    "X.shape"
   ]
  },
  {
   "cell_type": "code",
   "execution_count": 12,
   "metadata": {},
   "outputs": [],
   "source": [
    "# Create a target dataset of datatype array and remove the last 'x' units/days \n",
    "y=np.array(df['Prediction'])[:-future_days]"
   ]
  },
  {
   "cell_type": "code",
   "execution_count": 13,
   "metadata": {},
   "outputs": [
    {
     "data": {
      "text/plain": [
       "(333,)"
      ]
     },
     "execution_count": 13,
     "metadata": {},
     "output_type": "execute_result"
    }
   ],
   "source": [
    "y.shape"
   ]
  },
  {
   "cell_type": "code",
   "execution_count": 14,
   "metadata": {},
   "outputs": [],
   "source": [
    "# Split the dataset into train and test with 75%\n",
    "from sklearn.model_selection import train_test_split\n",
    "X_train, X_test,y_train, y_test= train_test_split(X,y,test_size=0.25)"
   ]
  },
  {
   "cell_type": "code",
   "execution_count": 15,
   "metadata": {},
   "outputs": [],
   "source": [
    "# Preparing the models using linear regression and Decision Tree Regression\n",
    "#Fitting the model into linear regression\n",
    "ln=LinearRegression().fit(X_train,y_train)\n",
    "\n",
    "#Fitting the model into Decision Tree Regression\n",
    "dr=DecisionTreeRegressor().fit(X_train,y_train)"
   ]
  },
  {
   "cell_type": "code",
   "execution_count": 16,
   "metadata": {},
   "outputs": [],
   "source": [
    "# Get the last 'x' rows of the feature dataset\n",
    "x_future=np.array(df.drop(['Prediction'],axis=1))[:-future_days]\n",
    "x_future=df.tail(future_days)\n",
    "x_future=np.array(x_future)\n",
    "x_future = x_future[~np.isnan(x_future)]\n",
    "x_future=x_future.reshape(-1,1)\n"
   ]
  },
  {
   "cell_type": "code",
   "execution_count": 17,
   "metadata": {},
   "outputs": [
    {
     "name": "stdout",
     "output_type": "stream",
     "text": [
      "[5.369837 5.369837 2.704501 2.704501 5.369837 5.369837 5.369837 5.369837\n",
      " 5.369837 5.369837 5.369837 5.369837 5.369837 5.369837 5.369837 5.369837\n",
      " 2.550038 2.550038 2.550038 2.550038 2.550038 2.550038 2.550038 2.550038\n",
      " 2.550038 2.550038 2.550038 2.550038 2.550038 2.550038]\n",
      "\n",
      "[ 2.99338846  3.28048718  3.67810021  3.66850438  3.61259457  3.51136563\n",
      "  3.5681433   3.53067724  3.49289366  3.03576533  3.22228424  3.25093767\n",
      "  3.32692816  3.14817764  3.07915823  2.68769782  5.29355087 23.09277545\n",
      " 13.32617653 17.96729068 16.82456863 15.04905814 17.9144219  26.27473099\n",
      " 22.93669506 28.41141859 39.29634781 39.39373842 34.85160241 36.72038294]\n"
     ]
    }
   ],
   "source": [
    "# Predict the model\n",
    "tree_prediction = dr.predict(x_future)\n",
    "print(tree_prediction)\n",
    "print()\n",
    "\n",
    "lr_prediction = ln.predict(x_future)\n",
    "print(lr_prediction)\n"
   ]
  },
  {
   "cell_type": "code",
   "execution_count": 18,
   "metadata": {},
   "outputs": [
    {
     "name": "stderr",
     "output_type": "stream",
     "text": [
      "<ipython-input-18-d34efb385b49>:5: SettingWithCopyWarning: \n",
      "A value is trying to be set on a copy of a slice from a DataFrame.\n",
      "Try using .loc[row_indexer,col_indexer] = value instead\n",
      "\n",
      "See the caveats in the documentation: https://pandas.pydata.org/pandas-docs/stable/user_guide/indexing.html#returning-a-view-versus-a-copy\n",
      "  valid['Prediction']=predictions\n"
     ]
    },
    {
     "data": {
      "image/png": "[encoded data removed]",
      "text/plain": [
       "<Figure size 1080x504 with 1 Axes>"
      ]
     },
     "metadata": {
      "needs_background": "light"
     },
     "output_type": "display_data"
    }
   ],
   "source": [
    "# Visualize the data\n",
    "predictions= tree_prediction\n",
    "\n",
    "valid=df[X.shape[0]:]\n",
    "valid['Prediction']=predictions\n",
    "plt.figure(figsize=(15,7))\n",
    "plt.title('DTR')\n",
    "plt.xlabel('Days')\n",
    "plt.ylabel('Close')\n",
    "plt.plot(df['Close'])\n",
    "plt.plot(valid[['Close','Prediction']])\n",
    "plt.legend(['Orignal', 'Validation', 'Prediction'])\n",
    "plt.show()"
   ]
  },
  {
   "cell_type": "code",
   "execution_count": 19,
   "metadata": {},
   "outputs": [
    {
     "name": "stderr",
     "output_type": "stream",
     "text": [
      "<ipython-input-19-5f999a79e8f6>:4: SettingWithCopyWarning: \n",
      "A value is trying to be set on a copy of a slice from a DataFrame.\n",
      "Try using .loc[row_indexer,col_indexer] = value instead\n",
      "\n",
      "See the caveats in the documentation: https://pandas.pydata.org/pandas-docs/stable/user_guide/indexing.html#returning-a-view-versus-a-copy\n",
      "  valid['Prediction']=predictions\n"
     ]
    },
    {
     "data": {
      "image/png": "[encoded data removed]",
      "text/plain": [
       "<Figure size 1080x504 with 1 Axes>"
      ]
     },
     "metadata": {
      "needs_background": "light"
     },
     "output_type": "display_data"
    }
   ],
   "source": [
    "predictions= lr_prediction\n",
    "\n",
    "valid=df[X.shape[0]:]\n",
    "valid['Prediction']=predictions\n",
    "plt.figure(figsize=(15,7))\n",
    "plt.title('Linear Regression')\n",
    "plt.xlabel('Days')\n",
    "plt.ylabel('Close')\n",
    "plt.plot(df['Close'])\n",
    "plt.plot(valid[['Close','Prediction']])\n",
    "plt.legend(['Orignal', 'Validation', 'Prediction'])\n",
    "plt.show()"
   ]
  },
  {
   "cell_type": "code",
   "execution_count": null,
   "metadata": {},
   "outputs": [],
   "source": []
  }
 ],
 "metadata": {
  "kernelspec": {
   "display_name": "Python 3",
   "language": "python",
   "name": "python3"
  },
  "language_info": {
   "codemirror_mode": {
    "name": "ipython",
    "version": 3
   },
   "file_extension": ".py",
   "mimetype": "text/x-python",
   "name": "python",
   "nbconvert_exporter": "python",
   "pygments_lexer": "ipython3",
   "version": "3.8.5"
  }
 },
 "nbformat": 4,
 "nbformat_minor": 4
}
