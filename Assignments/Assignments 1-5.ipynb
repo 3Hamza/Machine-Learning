{
 "cells": [
  {
   "cell_type": "markdown",
   "metadata": {},
   "source": [
    "# Assignment 1"
   ]
  },
  {
   "cell_type": "code",
   "execution_count": null,
   "metadata": {},
   "outputs": [],
   "source": [
    "a=int(input(\"Enter any number(a): \"))\n",
    "b=int(input(\"Enter any number(b): \"))\n",
    "if(a>b):\n",
    "    sum=a+b\n",
    "    print(\"sum of a and b:\", sum )\n",
    "else:\n",
    "    print(\"{} is greater than {}\".format(b,a))"
   ]
  },
  {
   "cell_type": "markdown",
   "metadata": {},
   "source": [
    "# Assignment 2"
   ]
  },
  {
   "cell_type": "code",
   "execution_count": null,
   "metadata": {},
   "outputs": [],
   "source": [
    "name=input(\"Enter your name: \")\n",
    "age=input(\"Enter your age: \")\n",
    "city=input(\"Enter your city: \")\n",
    "hobby=input(\"What are your hobbies: \")\n",
    "\n",
    "#using concatenation of strings.(One of the other methods.)\n",
    "print(\"-\"*20)\n",
    "a='My Name is ';b='My age is ';c='I live in '; d='my hobbies are ';  \n",
    "print(a+name,\"and\", b+age,\".\", c+city,\"and\", d+hobby,\".\")\n",
    "\n",
    "# or using format function\n",
    "print(\"-\"*20)\n",
    "print(\"My name is {}. My age is {}. I live in {} and my hobbies are {}. \".format(name,age,city,hobby))"
   ]
  },
  {
   "cell_type": "markdown",
   "metadata": {},
   "source": [
    "# Assignment 3\n",
    "\n",
    "- To check whether do-while function is present in Python"
   ]
  },
  {
   "cell_type": "code",
   "execution_count": 12,
   "metadata": {},
   "outputs": [
    {
     "name": "stdout",
     "output_type": "stream",
     "text": [
      "['False', 'None', 'True', 'and', 'as', 'assert', 'async', 'await', 'break', 'class', 'continue', 'def', 'del', 'elif', 'else', 'except', 'finally', 'for', 'from', 'global', 'if', 'import', 'in', 'is', 'lambda', 'nonlocal', 'not', 'or', 'pass', 'raise', 'return', 'try', 'while', 'with', 'yield']\n",
      "----------------------------------------\n",
      "do is not present in the keyword list of Python.\n"
     ]
    }
   ],
   "source": [
    "import keyword\n",
    "list=keyword.kwlist\n",
    "print(list)\n",
    "key='do'\n",
    "print(\"-\"*40)\n",
    "if key in list:\n",
    "    print(\"do is present\")\n",
    "else:\n",
    "    print(\"do is not present in the keyword list of Python.\")"
   ]
  },
  {
   "cell_type": "markdown",
   "metadata": {},
   "source": [
    "# Assignment 4"
   ]
  },
  {
   "cell_type": "code",
   "execution_count": 3,
   "metadata": {
    "scrolled": true
   },
   "outputs": [
    {
     "name": "stdout",
     "output_type": "stream",
     "text": [
      "Enter the number: 8\n",
      "Enter the number: 55\n",
      "Enter the number: 64\n",
      "Enter the number: 10\n",
      "Enter the number: 1\n",
      "Enter the number: 77\n",
      "Enter the number: 24\n",
      "Enter the number: 26\n",
      "Enter the number: 99\n",
      "Enter the number: 41\n",
      "the numbers are:  [8, 55, 64, 10, 1, 77, 24, 26, 99, 41]\n",
      "The arranged numbers are: [1, 8, 10, 24, 26, 41, 55, 64, 77, 99]\n",
      "The reverse order is:  [99, 77, 64, 55, 41, 26, 24, 10, 8, 1]\n"
     ]
    }
   ],
   "source": [
    "numbers=[]\n",
    "for i in range(10):\n",
    "    j=int(input(\"Enter the number: \"))\n",
    "    numbers.insert(i,j)\n",
    "print(\"the numbers are: \",numbers)\n",
    "numbers.sort()\n",
    "print(\"The arranged numbers are:\",numbers)\n",
    "numbers.reverse()\n",
    "print(\"The reverse order is: \",numbers)"
   ]
  },
  {
   "cell_type": "markdown",
   "metadata": {},
   "source": [
    "# Assisgnment 5"
   ]
  },
  {
   "cell_type": "code",
   "execution_count": 19,
   "metadata": {
    "scrolled": true
   },
   "outputs": [
    {
     "name": "stdout",
     "output_type": "stream",
     "text": [
      "b  is present in the given list\n",
      "47  is present in the given list\n",
      "asz  is present in the given list\n",
      "['sza', 'asz', 5, 35]  are not present in the given list\n"
     ]
    }
   ],
   "source": [
    "list=['a','b',47,56.23,\"asz\"]\n",
    "check=['sza','b','asz',5,35,47]\n",
    "for i in list:\n",
    "    for j in check:\n",
    "        if i == j:\n",
    "            print(i,\" is present in the given list\")\n",
    "for i in check:\n",
    "    if i in list:\n",
    "        check.remove(i)\n",
    "print(check, \" are not present in the given list\")        \n",
    "            "
   ]
  },
  {
   "cell_type": "code",
   "execution_count": null,
   "metadata": {},
   "outputs": [],
   "source": []
  }
 ],
 "metadata": {
  "kernelspec": {
   "display_name": "Python 3",
   "language": "python",
   "name": "python3"
  },
  "language_info": {
   "codemirror_mode": {
    "name": "ipython",
    "version": 3
   },
   "file_extension": ".py",
   "mimetype": "text/x-python",
   "name": "python",
   "nbconvert_exporter": "python",
   "pygments_lexer": "ipython3",
   "version": "3.7.3"
  }
 },
 "nbformat": 4,
 "nbformat_minor": 2
}
